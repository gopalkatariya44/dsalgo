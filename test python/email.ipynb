{
 "cells": [
  {
   "cell_type": "code",
   "execution_count": null,
   "id": "fc10453b",
   "metadata": {},
   "outputs": [],
   "source": [
    "while True:\n",
    "    email  = input(\"Enter Email : \")\n",
    "#     if(len(email) < 6):\n",
    "#         print(\"password more than 6 char\")\n",
    "    if(\"@\" not in email) and (email.count(\"@\") <= 1):\n",
    "        print(\"your email not contain @\")\n",
    "        "
   ]
  },
  {
   "cell_type": "code",
   "execution_count": null,
   "id": "d9dbc9e8",
   "metadata": {},
   "outputs": [],
   "source": []
  }
 ],
 "metadata": {
  "kernelspec": {
   "display_name": "Python 3 (ipykernel)",
   "language": "python",
   "name": "python3"
  },
  "language_info": {
   "codemirror_mode": {
    "name": "ipython",
    "version": 3
   },
   "file_extension": ".py",
   "mimetype": "text/x-python",
   "name": "python",
   "nbconvert_exporter": "python",
   "pygments_lexer": "ipython3",
   "version": "3.9.12"
  }
 },
 "nbformat": 4,
 "nbformat_minor": 5
}
