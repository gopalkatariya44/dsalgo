{
 "cells": [
  {
   "cell_type": "code",
   "execution_count": 3,
   "id": "c5e78a4d",
   "metadata": {},
   "outputs": [],
   "source": [
    "class Node:\n",
    "    def __init__(self,data = None):\n",
    "        self.data = data\n",
    "        self.next = None\n",
    "\n",
    "class Linked:\n",
    "    def __init__(self):\n",
    "        self.head = None\n",
    "        \n",
    "    def show(self):\n",
    "        node = self.head\n",
    "        while node is not None:\n",
    "            print(node.data)\n",
    "            node = node.next"
   ]
  },
  {
   "cell_type": "code",
   "execution_count": 4,
   "id": "96980c9e",
   "metadata": {},
   "outputs": [],
   "source": [
    "link = Linked()"
   ]
  },
  {
   "cell_type": "code",
   "execution_count": 5,
   "id": "dd6a8e32",
   "metadata": {},
   "outputs": [],
   "source": [
    "ele = Node(\"gopal\")"
   ]
  },
  {
   "cell_type": "code",
   "execution_count": 6,
   "id": "a874c07f",
   "metadata": {},
   "outputs": [],
   "source": [
    "link.head = ele"
   ]
  },
  {
   "cell_type": "code",
   "execution_count": 8,
   "id": "8a252469",
   "metadata": {},
   "outputs": [
    {
     "name": "stdout",
     "output_type": "stream",
     "text": [
      "gopal\n"
     ]
    }
   ],
   "source": [
    "link.show()"
   ]
  },
  {
   "cell_type": "code",
   "execution_count": null,
   "id": "1679e135",
   "metadata": {},
   "outputs": [],
   "source": []
  }
 ],
 "metadata": {
  "kernelspec": {
   "display_name": "Python 3 (ipykernel)",
   "language": "python",
   "name": "python3"
  },
  "language_info": {
   "codemirror_mode": {
    "name": "ipython",
    "version": 3
   },
   "file_extension": ".py",
   "mimetype": "text/x-python",
   "name": "python",
   "nbconvert_exporter": "python",
   "pygments_lexer": "ipython3",
   "version": "3.9.12"
  }
 },
 "nbformat": 4,
 "nbformat_minor": 5
}
