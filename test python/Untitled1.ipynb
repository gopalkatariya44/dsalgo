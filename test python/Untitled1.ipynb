{
 "cells": [
  {
   "cell_type": "code",
   "execution_count": null,
   "id": "02d2d007",
   "metadata": {},
   "outputs": [],
   "source": [
    "def locate_card(cards, query):\n",
    "    return query"
   ]
  },
  {
   "cell_type": "code",
   "execution_count": null,
   "id": "997d52e3",
   "metadata": {},
   "outputs": [],
   "source": [
    "test = {\n",
    "    'input':{\n",
    "        'cards': [9,8,7,6,5,4,3,2,1],\n",
    "        'query': 7\n",
    "    },\n",
    "    'output': 7\n",
    "}"
   ]
  },
  {
   "cell_type": "code",
   "execution_count": null,
   "id": "3abd8e57",
   "metadata": {},
   "outputs": [],
   "source": [
    "locate_card(**test['input']) == test['output']"
   ]
  },
  {
   "cell_type": "code",
   "execution_count": null,
   "id": "ab81d50f",
   "metadata": {},
   "outputs": [],
   "source": [
    "0//2"
   ]
  },
  {
   "cell_type": "code",
   "execution_count": null,
   "id": "3358884b",
   "metadata": {},
   "outputs": [],
   "source": [
    "def remove_same_element(list):\n",
    "    for i in range(0,len(list)-1):\n",
    "        for j in range(len(0,list)-1):\n",
    "            if list[i] == list[j] and i != j:\n",
    "                list.remove(list[j])\n",
    "    return list"
   ]
  },
  {
   "cell_type": "code",
   "execution_count": 32,
   "id": "41ac5032",
   "metadata": {},
   "outputs": [
    {
     "ename": "NameError",
     "evalue": "name 'mid' is not defined",
     "output_type": "error",
     "traceback": [
      "\u001b[0;31m---------------------------------------------------------------------------\u001b[0m",
      "\u001b[0;31mNameError\u001b[0m                                 Traceback (most recent call last)",
      "Input \u001b[0;32mIn [32]\u001b[0m, in \u001b[0;36m<cell line: 2>\u001b[0;34m()\u001b[0m\n\u001b[1;32m      1\u001b[0m ls \u001b[38;5;241m=\u001b[39m [\u001b[38;5;241m1\u001b[39m,\u001b[38;5;241m3\u001b[39m,\u001b[38;5;241m2\u001b[39m,\u001b[38;5;241m4\u001b[39m,\u001b[38;5;241m6\u001b[39m,\u001b[38;5;241m9\u001b[39m,\u001b[38;5;241m8\u001b[39m,\u001b[38;5;241m5\u001b[39m,\u001b[38;5;241m4\u001b[39m]\n\u001b[0;32m----> 2\u001b[0m \u001b[43mmid\u001b[49m(ls)\n",
      "\u001b[0;31mNameError\u001b[0m: name 'mid' is not defined"
     ]
    }
   ],
   "source": [
    "ls = [1,3,2,4,6,9,8,5,4]"
   ]
  },
  {
   "cell_type": "code",
   "execution_count": null,
   "id": "454471ac",
   "metadata": {},
   "outputs": [],
   "source": [
    "# print(remove_same_element(ls))"
   ]
  },
  {
   "cell_type": "code",
   "execution_count": null,
   "id": "34b5fcb7",
   "metadata": {},
   "outputs": [],
   "source": [
    "import random as rd"
   ]
  },
  {
   "cell_type": "code",
   "execution_count": null,
   "id": "88054015",
   "metadata": {},
   "outputs": [],
   "source": [
    "rd.choice(ls)"
   ]
  },
  {
   "cell_type": "code",
   "execution_count": null,
   "id": "8478f3cb",
   "metadata": {},
   "outputs": [],
   "source": [
    "import random as rd\n",
    "plan_ls = [2,4,5,6,7,8,9]"
   ]
  },
  {
   "cell_type": "code",
   "execution_count": null,
   "id": "1157854f",
   "metadata": {},
   "outputs": [],
   "source": [
    "while True:\n",
    "    index = rd.randint(0, len(plan_ls)-1)\n",
    "    print(index)\n",
    "    if plan_ls[index] == 8:\n",
    "        return index"
   ]
  },
  {
   "cell_type": "code",
   "execution_count": 1,
   "id": "ae8e6122",
   "metadata": {},
   "outputs": [],
   "source": [
    "roman = {'I':1,'V':5,'X':10,'L':50,'C':100,'D':500,'M':1000}"
   ]
  },
  {
   "cell_type": "code",
   "execution_count": 2,
   "id": "3934f66d",
   "metadata": {},
   "outputs": [],
   "source": [
    "s = \"IMD\"\n",
    "ls = list(s)"
   ]
  },
  {
   "cell_type": "code",
   "execution_count": 4,
   "id": "1ea20d6b",
   "metadata": {},
   "outputs": [
    {
     "data": {
      "text/plain": [
       "1"
      ]
     },
     "execution_count": 4,
     "metadata": {},
     "output_type": "execute_result"
    }
   ],
   "source": [
    "roman[s[0]]"
   ]
  },
  {
   "cell_type": "code",
   "execution_count": null,
   "id": "2dfdd118",
   "metadata": {},
   "outputs": [],
   "source": [
    "I+M+D"
   ]
  },
  {
   "cell_type": "code",
   "execution_count": 14,
   "id": "184ac4c3",
   "metadata": {},
   "outputs": [],
   "source": [
    "roman = {'I':1,'V':5,'X':10,'L':50,'C':100,'D':500,'M':1000}\n",
    "class Solution:\n",
    "    def romanToInt(self, S: str) -> int:\n",
    "        summ= 0\n",
    "        for i in range(len(S)-1,-1,-1):\n",
    "            num = roman[S[i]]\n",
    "            if 3*num < summ: \n",
    "                summ = summ-num \n",
    "            else: \n",
    "                summ = summ+num\n",
    "        return summ"
   ]
  },
  {
   "cell_type": "code",
   "execution_count": 15,
   "id": "c3fd7178",
   "metadata": {},
   "outputs": [],
   "source": [
    "obj = Solution()"
   ]
  },
  {
   "cell_type": "code",
   "execution_count": 36,
   "id": "d27842db",
   "metadata": {},
   "outputs": [
    {
     "data": {
      "text/plain": [
       "4"
      ]
     },
     "execution_count": 36,
     "metadata": {},
     "output_type": "execute_result"
    }
   ],
   "source": [
    "obj.romanToInt(\"IIIIIIIIIIIIIIIIIV\")"
   ]
  },
  {
   "cell_type": "code",
   "execution_count": null,
   "id": "6f391553",
   "metadata": {},
   "outputs": [],
   "source": [
    "while True:\n",
    "    email  = input(\"Enter Email : \")\n",
    "    if len(email) < 6:\n",
    "        print(\"password more than 6 char\")\n",
    "    if (\"@\" in email) and (email.count(\"@\") == 1):\n",
    "        print(\"your email not contain @\")\n",
    "        "
   ]
  },
  {
   "cell_type": "code",
   "execution_count": 4,
   "id": "eeb7ee3b",
   "metadata": {},
   "outputs": [
    {
     "data": {
      "text/plain": [
       "''"
      ]
     },
     "execution_count": 4,
     "metadata": {},
     "output_type": "execute_result"
    }
   ],
   "source": [
    "email"
   ]
  },
  {
   "cell_type": "code",
   "execution_count": null,
   "id": "05042c89",
   "metadata": {},
   "outputs": [],
   "source": []
  }
 ],
 "metadata": {
  "kernelspec": {
   "display_name": "Python 3 (ipykernel)",
   "language": "python",
   "name": "python3"
  },
  "language_info": {
   "codemirror_mode": {
    "name": "ipython",
    "version": 3
   },
   "file_extension": ".py",
   "mimetype": "text/x-python",
   "name": "python",
   "nbconvert_exporter": "python",
   "pygments_lexer": "ipython3",
   "version": "3.9.12"
  }
 },
 "nbformat": 4,
 "nbformat_minor": 5
}
