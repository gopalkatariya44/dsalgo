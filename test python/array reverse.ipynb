{
 "cells": [
  {
   "cell_type": "code",
   "execution_count": 1,
   "id": "c0bf9bb7",
   "metadata": {},
   "outputs": [],
   "source": [
    "import array as ar"
   ]
  },
  {
   "cell_type": "code",
   "execution_count": 2,
   "id": "605f6079",
   "metadata": {},
   "outputs": [],
   "source": [
    "arr = ar.array(\"i\",[1,2,3,4,5,6,7,8])"
   ]
  },
  {
   "cell_type": "code",
   "execution_count": 3,
   "id": "22f74f14",
   "metadata": {},
   "outputs": [
    {
     "name": "stdout",
     "output_type": "stream",
     "text": [
      "8\n"
     ]
    }
   ],
   "source": [
    "type(arr)\n",
    "print(len(arr))\n",
    "arr1 = ar.array(\"i\",[1])"
   ]
  },
  {
   "cell_type": "code",
   "execution_count": 4,
   "id": "24418e48",
   "metadata": {},
   "outputs": [
    {
     "name": "stdout",
     "output_type": "stream",
     "text": [
      "8\n",
      "7\n",
      "6\n",
      "5\n",
      "4\n",
      "3\n",
      "2\n",
      "1\n"
     ]
    }
   ],
   "source": [
    "for i in range(len(arr)-1,-1,-1):\n",
    "    print(arr[i])\n",
    "    arr1.append(arr[i])\n",
    "    "
   ]
  },
  {
   "cell_type": "code",
   "execution_count": 9,
   "id": "f49e04ad",
   "metadata": {},
   "outputs": [],
   "source": [
    "a,b = [2,3,6],[9,8,7]"
   ]
  },
  {
   "cell_type": "code",
   "execution_count": 5,
   "id": "b83902be",
   "metadata": {},
   "outputs": [],
   "source": []
  },
  {
   "cell_type": "code",
   "execution_count": 6,
   "id": "4333b3a6",
   "metadata": {},
   "outputs": [
    {
     "data": {
      "text/plain": [
       "array('i', [2, 8, 7, 6, 5, 4, 3, 2, 1])"
      ]
     },
     "execution_count": 6,
     "metadata": {},
     "output_type": "execute_result"
    }
   ],
   "source": [
    "arr1"
   ]
  },
  {
   "cell_type": "code",
   "execution_count": 7,
   "id": "b682228f",
   "metadata": {},
   "outputs": [
    {
     "data": {
      "text/plain": [
       "([1, 2, 3], [4, 5, 6], [7, 8, 9])"
      ]
     },
     "execution_count": 7,
     "metadata": {},
     "output_type": "execute_result"
    }
   ],
   "source": [
    "[1,2,3],[4,5,6],[7,8,9]"
   ]
  },
  {
   "cell_type": "code",
   "execution_count": 8,
   "id": "a3178726",
   "metadata": {},
   "outputs": [],
   "source": [
    "k = 0"
   ]
  },
  {
   "cell_type": "code",
   "execution_count": null,
   "id": "3c5a8cea",
   "metadata": {},
   "outputs": [],
   "source": [
    "for i in range(r)"
   ]
  }
 ],
 "metadata": {
  "kernelspec": {
   "display_name": "Python 3 (ipykernel)",
   "language": "python",
   "name": "python3"
  },
  "language_info": {
   "codemirror_mode": {
    "name": "ipython",
    "version": 3
   },
   "file_extension": ".py",
   "mimetype": "text/x-python",
   "name": "python",
   "nbconvert_exporter": "python",
   "pygments_lexer": "ipython3",
   "version": "3.9.12"
  }
 },
 "nbformat": 4,
 "nbformat_minor": 5
}
