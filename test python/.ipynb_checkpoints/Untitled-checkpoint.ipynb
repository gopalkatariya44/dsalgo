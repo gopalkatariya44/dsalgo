{
 "cells": [
  {
   "cell_type": "code",
   "execution_count": 8,
   "id": "2cc2267b",
   "metadata": {},
   "outputs": [],
   "source": [
    "my_str = \"hello gopal, how are you\""
   ]
  },
  {
   "cell_type": "code",
   "execution_count": 9,
   "id": "4de7c3a7",
   "metadata": {},
   "outputs": [],
   "source": [
    "ls = []"
   ]
  },
  {
   "cell_type": "code",
   "execution_count": 10,
   "id": "14f58304",
   "metadata": {},
   "outputs": [],
   "source": [
    "for i in range(10):\n",
    "    ls.append(i)"
   ]
  },
  {
   "cell_type": "code",
   "execution_count": 11,
   "id": "19a23a06",
   "metadata": {},
   "outputs": [
    {
     "data": {
      "text/plain": [
       "[0, 1, 2, 3, 4, 5, 6, 7, 8, 9]"
      ]
     },
     "execution_count": 11,
     "metadata": {},
     "output_type": "execute_result"
    }
   ],
   "source": [
    "ls"
   ]
  },
  {
   "cell_type": "code",
   "execution_count": 16,
   "id": "1fefed8a",
   "metadata": {},
   "outputs": [],
   "source": [
    "parth,gopal = (1127.5 + 2120.5 + 1504.5 + 582.5),(166.5 + 2372 + 260 + 770.5)"
   ]
  },
  {
   "cell_type": "code",
   "execution_count": 17,
   "id": "ae8f7326",
   "metadata": {},
   "outputs": [
    {
     "data": {
      "text/plain": [
       "1766.0"
      ]
     },
     "execution_count": 17,
     "metadata": {},
     "output_type": "execute_result"
    }
   ],
   "source": [
    "parth - gopal"
   ]
  },
  {
   "cell_type": "code",
   "execution_count": null,
   "id": "1bc9e928",
   "metadata": {},
   "outputs": [],
   "source": []
  },
  {
   "cell_type": "code",
   "execution_count": null,
   "id": "2f0c239c",
   "metadata": {},
   "outputs": [],
   "source": []
  },
  {
   "cell_type": "code",
   "execution_count": null,
   "id": "bdfaa74c",
   "metadata": {},
   "outputs": [],
   "source": []
  },
  {
   "cell_type": "code",
   "execution_count": null,
   "id": "37c37199",
   "metadata": {},
   "outputs": [],
   "source": []
  }
 ],
 "metadata": {
  "kernelspec": {
   "display_name": "Python 3 (ipykernel)",
   "language": "python",
   "name": "python3"
  },
  "language_info": {
   "codemirror_mode": {
    "name": "ipython",
    "version": 3
   },
   "file_extension": ".py",
   "mimetype": "text/x-python",
   "name": "python",
   "nbconvert_exporter": "python",
   "pygments_lexer": "ipython3",
   "version": "3.9.12"
  }
 },
 "nbformat": 4,
 "nbformat_minor": 5
}
